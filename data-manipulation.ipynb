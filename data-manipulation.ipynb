{
 "cells": [
  {
   "cell_type": "code",
   "execution_count": 1,
   "id": "b98219c6-570d-4f03-894d-3483cff18cc2",
   "metadata": {
    "tags": []
   },
   "outputs": [],
   "source": [
    "import pandas as pd"
   ]
  },
  {
   "cell_type": "code",
   "execution_count": 31,
   "id": "13cd2799",
   "metadata": {},
   "outputs": [],
   "source": [
    "from sklearn.model_selection import train_test_split"
   ]
  },
  {
   "cell_type": "code",
   "execution_count": 2,
   "id": "5300033f-5641-48dd-b3fb-1f99746f026b",
   "metadata": {
    "tags": []
   },
   "outputs": [],
   "source": [
    "df = pd.read_csv('DogMoveData.csv')"
   ]
  },
  {
   "cell_type": "code",
   "execution_count": 30,
   "id": "d1a2e833-70f7-4111-91df-42a33b28a240",
   "metadata": {
    "tags": []
   },
   "outputs": [
    {
     "name": "stdout",
     "output_type": "stream",
     "text": [
      "          DogID  TestNum    t_sec   ABack_x   ABack_y   ABack_z   ANeck_x  \\\n",
      "0            16        1     0.00  0.041504  0.938965 -0.015137 -0.067871   \n",
      "1            16        1     0.01  0.041992  0.941895 -0.020020 -0.128906   \n",
      "2            16        1     0.02  0.040527  0.939453 -0.004395 -0.158691   \n",
      "3            16        1     0.03  0.021484  0.946289  0.007813 -0.122070   \n",
      "4            16        1     0.04 -0.000977  0.951172  0.033691 -0.053711   \n",
      "...         ...      ...      ...       ...       ...       ...       ...   \n",
      "10611063     74        2  1928.19  0.018066  0.436523  0.808105 -0.620605   \n",
      "10611064     74        2  1928.20 -0.021973  0.515625  0.813965 -0.671875   \n",
      "10611065     74        2  1928.21 -0.041504  0.507324  0.782227 -0.674805   \n",
      "10611066     74        2  1928.22 -0.032715  0.484375  0.824219 -0.685059   \n",
      "10611067     74        2  1928.23  0.033691  0.432617  0.785645 -0.664063   \n",
      "\n",
      "           ANeck_y   ANeck_z    GBack_x    GBack_y    GBack_z     GNeck_x  \\\n",
      "0        -0.510254 -0.934570 -17.639161 -22.766115   7.446290   -7.934571   \n",
      "1        -0.494141 -0.913086 -15.075685 -11.413575   4.821778   -3.906250   \n",
      "2        -0.480469 -0.911133 -12.207032  -0.122070   2.807617   -0.488281   \n",
      "3        -0.486816 -0.880371  -9.460450   7.995606   1.586914    1.159668   \n",
      "4        -0.500000 -0.807129  -8.361817  14.587403  -1.037598    4.577637   \n",
      "...            ...       ...        ...        ...        ...         ...   \n",
      "10611063  0.326172 -0.647949  23.620607  75.317387  77.148442 -124.511726   \n",
      "10611064  0.241211 -0.660645  34.729006  63.293461  79.956060 -116.455085   \n",
      "10611065  0.244629 -0.627930  39.978030  49.316409  84.655767 -104.858405   \n",
      "10611066  0.211426 -0.578613  38.024905  32.775881  89.538580  -87.463384   \n",
      "10611067  0.254395 -0.527344  26.306154  19.897462  89.477545  -64.025883   \n",
      "\n",
      "             GNeck_y     GNeck_z               Task       Behavior_1  \\\n",
      "0           6.347657   13.427735        <undefined>      <undefined>   \n",
      "1           4.394532   16.540528        <undefined>  Synchronization   \n",
      "2          -1.953125   26.794435        <undefined>  Synchronization   \n",
      "3          -5.676270   38.085940        <undefined>  Synchronization   \n",
      "4           4.089356   41.503909        <undefined>  Synchronization   \n",
      "...              ...         ...                ...              ...   \n",
      "10611063  107.727057 -122.497566  Task treat-search         Sniffing   \n",
      "10611064   97.534186 -123.229988  Task treat-search         Sniffing   \n",
      "10611065   95.458990 -124.816902  Task treat-search         Sniffing   \n",
      "10611066  101.257330 -128.601082  Task treat-search         Sniffing   \n",
      "10611067   93.688971 -128.906258  Task treat-search         Sniffing   \n",
      "\n",
      "           Behavior_2   Behavior_3   PointEvent  \n",
      "0         <undefined>  <undefined>  <undefined>  \n",
      "1         <undefined>  <undefined>  <undefined>  \n",
      "2         <undefined>  <undefined>  <undefined>  \n",
      "3         <undefined>  <undefined>  <undefined>  \n",
      "4         <undefined>  <undefined>  <undefined>  \n",
      "...               ...          ...          ...  \n",
      "10611063  <undefined>  <undefined>  <undefined>  \n",
      "10611064  <undefined>  <undefined>  <undefined>  \n",
      "10611065  <undefined>  <undefined>  <undefined>  \n",
      "10611066  <undefined>  <undefined>  <undefined>  \n",
      "10611067  <undefined>  <undefined>  <undefined>  \n",
      "\n",
      "[10598932 rows x 20 columns]\n"
     ]
    }
   ],
   "source": []
  },
  {
   "cell_type": "code",
   "execution_count": 41,
   "id": "78115b37",
   "metadata": {},
   "outputs": [
    {
     "name": "stdout",
     "output_type": "stream",
     "text": [
      "TestNum\n",
      "1    7077556\n",
      "Name: count, dtype: int64\n"
     ]
    }
   ],
   "source": [
    "# Filter out rows where TestNum is equal to 2\n",
    "df_1 = df[df['TestNum'] != 2]\n",
    "test_counts = df_1['TestNum'].value_counts()\n",
    "print(test_counts)"
   ]
  },
  {
   "cell_type": "code",
   "execution_count": 42,
   "id": "fe637a5e-5635-4f72-9cc5-52dbb7f515a6",
   "metadata": {},
   "outputs": [
    {
     "name": "stderr",
     "output_type": "stream",
     "text": [
      "/var/folders/rj/rd7zf_xd73z48_hp9wffw4p80000gn/T/ipykernel_82386/4082944345.py:2: UserWarning: Boolean Series key will be reindexed to match DataFrame index.\n",
      "  df_2 = df_1[(df['Behavior_2'] == '<undefined>') & (df['Behavior_3'] == '<undefined>')]\n"
     ]
    },
    {
     "name": "stdout",
     "output_type": "stream",
     "text": [
      "   DogID  TestNum  t_sec   ABack_x   ABack_y   ABack_z   ANeck_x   ANeck_y  \\\n",
      "0     16        1   0.00  0.041504  0.938965 -0.015137 -0.067871 -0.510254   \n",
      "1     16        1   0.01  0.041992  0.941895 -0.020020 -0.128906 -0.494141   \n",
      "2     16        1   0.02  0.040527  0.939453 -0.004395 -0.158691 -0.480469   \n",
      "3     16        1   0.03  0.021484  0.946289  0.007813 -0.122070 -0.486816   \n",
      "4     16        1   0.04 -0.000977  0.951172  0.033691 -0.053711 -0.500000   \n",
      "\n",
      "    ANeck_z    GBack_x    GBack_y   GBack_z   GNeck_x   GNeck_y    GNeck_z  \\\n",
      "0 -0.934570 -17.639161 -22.766115  7.446290 -7.934571  6.347657  13.427735   \n",
      "1 -0.913086 -15.075685 -11.413575  4.821778 -3.906250  4.394532  16.540528   \n",
      "2 -0.911133 -12.207032  -0.122070  2.807617 -0.488281 -1.953125  26.794435   \n",
      "3 -0.880371  -9.460450   7.995606  1.586914  1.159668 -5.676270  38.085940   \n",
      "4 -0.807129  -8.361817  14.587403 -1.037598  4.577637  4.089356  41.503909   \n",
      "\n",
      "          Task       Behavior_1   Behavior_2   Behavior_3   PointEvent  \n",
      "0  <undefined>      <undefined>  <undefined>  <undefined>  <undefined>  \n",
      "1  <undefined>  Synchronization  <undefined>  <undefined>  <undefined>  \n",
      "2  <undefined>  Synchronization  <undefined>  <undefined>  <undefined>  \n",
      "3  <undefined>  Synchronization  <undefined>  <undefined>  <undefined>  \n",
      "4  <undefined>  Synchronization  <undefined>  <undefined>  <undefined>  \n"
     ]
    }
   ],
   "source": [
    "# Filter the DataFrame to have only observations in Behavior 1 (Behavior 2 and 3 == <undefined>)\n",
    "df_2 = df_1[(df['Behavior_2'] == '<undefined>') & (df['Behavior_3'] == '<undefined>')]\n",
    "\n",
    "# Display the first few rows of the filtered DataFrame\n",
    "print(df_2.head())"
   ]
  },
  {
   "cell_type": "code",
   "execution_count": 43,
   "id": "e62e39d2",
   "metadata": {},
   "outputs": [
    {
     "name": "stdout",
     "output_type": "stream",
     "text": [
      "   t_sec   ABack_x   ABack_y   ABack_z       Behavior_1\n",
      "0   0.00  0.041504  0.938965 -0.015137      <undefined>\n",
      "1   0.01  0.041992  0.941895 -0.020020  Synchronization\n",
      "2   0.02  0.040527  0.939453 -0.004395  Synchronization\n",
      "3   0.03  0.021484  0.946289  0.007813  Synchronization\n",
      "4   0.04 -0.000977  0.951172  0.033691  Synchronization\n"
     ]
    }
   ],
   "source": [
    "# List of columns to delete (unused -- reduce dataset size)\n",
    "columns_to_delete = ['DogID', 'TestNum', 'ANeck_x', 'ANeck_y', 'ANeck_z', 'GNeck_x', 'GNeck_y', 'GNeck_z', 'GBack_x', 'GBack_y', 'GBack_z', 'Task', 'Behavior_2', 'Behavior_3', 'PointEvent']\n",
    "\n",
    "# Use the drop() method to remove these columns\n",
    "df_3 = df_2.drop(columns=columns_to_delete)\n",
    "\n",
    "# Display the DataFrame to confirm the columns have been removed\n",
    "print(df_3.head())"
   ]
  },
  {
   "cell_type": "code",
   "execution_count": 44,
   "id": "930850e5",
   "metadata": {},
   "outputs": [
    {
     "name": "stdout",
     "output_type": "stream",
     "text": [
      "Behavior_1\n",
      "<undefined>              2584556\n",
      "Sniffing                  645223\n",
      "Trotting                  458105\n",
      "Walking                   454964\n",
      "Lying chest               261016\n",
      "Playing                   237007\n",
      "Sitting                   166285\n",
      "Standing                  157067\n",
      "Pacing                     54373\n",
      "Drinking                   51971\n",
      "Shaking                    28421\n",
      "Synchronization            10350\n",
      "Panting                     2275\n",
      "Galloping                   2252\n",
      "Tugging                      490\n",
      "Extra_Synchronization        287\n",
      "Eating                         5\n",
      "Name: count, dtype: int64\n"
     ]
    }
   ],
   "source": [
    "behavior_counts = df_3['Behavior_1'].value_counts()\n",
    "print(behavior_counts)\n"
   ]
  },
  {
   "cell_type": "code",
   "execution_count": 45,
   "id": "6558ea89",
   "metadata": {},
   "outputs": [
    {
     "name": "stdout",
     "output_type": "stream",
     "text": [
      "      t_sec   ABack_x   ABack_y   ABack_z Behavior_1\n",
      "9081  90.81 -0.272949  0.204102  1.185547    Walking\n",
      "9082  90.82 -0.296875 -0.004883  1.074219    Walking\n",
      "9083  90.83 -0.248535 -0.142578  0.994141    Walking\n",
      "9084  90.84 -0.170898 -0.216797  0.927246    Walking\n",
      "9085  90.85 -0.084473 -0.226563  0.871094    Walking\n"
     ]
    }
   ],
   "source": [
    "# Define the list of behaviors used in the original analysis\n",
    "selected_behaviors = [\"Galloping\", \"Lying chest\", \"Sitting\", \"Sniffing\", \"Standing\", \"Trotting\", \"Walking\"]\n",
    "\n",
    "# Filter the DataFrame to include only rows with the selected behaviors\n",
    "df_4 = df_3[df_3['Behavior_1'].isin(selected_behaviors)]\n",
    "\n",
    "# Display the first few rows of the filtered DataFrame\n",
    "print(df_4.head())\n"
   ]
  },
  {
   "cell_type": "code",
   "execution_count": 46,
   "id": "cbebaaf6",
   "metadata": {},
   "outputs": [
    {
     "name": "stdout",
     "output_type": "stream",
     "text": [
      "Behavior_1\n",
      "Sniffing       645223\n",
      "Trotting       458105\n",
      "Walking        454964\n",
      "Lying chest    261016\n",
      "Sitting        166285\n",
      "Standing       157067\n",
      "Galloping        2252\n",
      "Name: count, dtype: int64\n"
     ]
    }
   ],
   "source": [
    "behavior_counts = df_4['Behavior_1'].value_counts()\n",
    "print(behavior_counts)"
   ]
  },
  {
   "cell_type": "code",
   "execution_count": 24,
   "id": "e0952250",
   "metadata": {},
   "outputs": [],
   "source": [
    "# Round all numerical columns to the specified number of decimal places\n",
    "df_rounded = df_4.copy()  # Create a copy to preserve the original DataFrame\n",
    "# Round to X decimal places\n",
    "df_rounded = df_rounded.round(3)"
   ]
  },
  {
   "cell_type": "code",
   "execution_count": 25,
   "id": "42c2635a",
   "metadata": {},
   "outputs": [
    {
     "data": {
      "text/html": [
       "<div>\n",
       "<style scoped>\n",
       "    .dataframe tbody tr th:only-of-type {\n",
       "        vertical-align: middle;\n",
       "    }\n",
       "\n",
       "    .dataframe tbody tr th {\n",
       "        vertical-align: top;\n",
       "    }\n",
       "\n",
       "    .dataframe thead th {\n",
       "        text-align: right;\n",
       "    }\n",
       "</style>\n",
       "<table border=\"1\" class=\"dataframe\">\n",
       "  <thead>\n",
       "    <tr style=\"text-align: right;\">\n",
       "      <th></th>\n",
       "      <th>t_sec</th>\n",
       "      <th>ABack_x</th>\n",
       "      <th>ABack_y</th>\n",
       "      <th>ABack_z</th>\n",
       "      <th>Behavior_1</th>\n",
       "    </tr>\n",
       "  </thead>\n",
       "  <tbody>\n",
       "    <tr>\n",
       "      <th>9081</th>\n",
       "      <td>90.81</td>\n",
       "      <td>-0.273</td>\n",
       "      <td>0.204</td>\n",
       "      <td>1.186</td>\n",
       "      <td>Walking</td>\n",
       "    </tr>\n",
       "    <tr>\n",
       "      <th>9082</th>\n",
       "      <td>90.82</td>\n",
       "      <td>-0.297</td>\n",
       "      <td>-0.005</td>\n",
       "      <td>1.074</td>\n",
       "      <td>Walking</td>\n",
       "    </tr>\n",
       "    <tr>\n",
       "      <th>9083</th>\n",
       "      <td>90.83</td>\n",
       "      <td>-0.249</td>\n",
       "      <td>-0.143</td>\n",
       "      <td>0.994</td>\n",
       "      <td>Walking</td>\n",
       "    </tr>\n",
       "    <tr>\n",
       "      <th>9084</th>\n",
       "      <td>90.84</td>\n",
       "      <td>-0.171</td>\n",
       "      <td>-0.217</td>\n",
       "      <td>0.927</td>\n",
       "      <td>Walking</td>\n",
       "    </tr>\n",
       "    <tr>\n",
       "      <th>9085</th>\n",
       "      <td>90.85</td>\n",
       "      <td>-0.084</td>\n",
       "      <td>-0.227</td>\n",
       "      <td>0.871</td>\n",
       "      <td>Walking</td>\n",
       "    </tr>\n",
       "  </tbody>\n",
       "</table>\n",
       "</div>"
      ],
      "text/plain": [
       "      t_sec  ABack_x  ABack_y  ABack_z Behavior_1\n",
       "9081  90.81   -0.273    0.204    1.186    Walking\n",
       "9082  90.82   -0.297   -0.005    1.074    Walking\n",
       "9083  90.83   -0.249   -0.143    0.994    Walking\n",
       "9084  90.84   -0.171   -0.217    0.927    Walking\n",
       "9085  90.85   -0.084   -0.227    0.871    Walking"
      ]
     },
     "execution_count": 25,
     "metadata": {},
     "output_type": "execute_result"
    }
   ],
   "source": [
    "df_rounded.head()"
   ]
  },
  {
   "cell_type": "code",
   "execution_count": 47,
   "id": "745f968f",
   "metadata": {},
   "outputs": [
    {
     "name": "stdout",
     "output_type": "stream",
     "text": [
      "DataFrame exported successfully\n"
     ]
    }
   ],
   "source": [
    "# Export the filtered DataFrame to a CSV file\n",
    "df_4.to_csv('ManipulatedDogMoveData(Acc).csv', index=False)\n",
    "\n",
    "print(\"DataFrame exported successfully\")\n"
   ]
  },
  {
   "cell_type": "code",
   "execution_count": null,
   "id": "fcd5da6c",
   "metadata": {},
   "outputs": [],
   "source": []
  },
  {
   "cell_type": "code",
   "execution_count": null,
   "id": "26fae290",
   "metadata": {},
   "outputs": [],
   "source": []
  },
  {
   "cell_type": "markdown",
   "id": "d665ca58",
   "metadata": {},
   "source": [
    "# Tests"
   ]
  },
  {
   "cell_type": "code",
   "execution_count": 33,
   "id": "bf89935a",
   "metadata": {},
   "outputs": [],
   "source": [
    "# Perform random sampling based on fraction\n",
    "df_sampled = df_rounded.sample(frac=0.84, random_state=2)  # random_state for reproducibility"
   ]
  },
  {
   "cell_type": "code",
   "execution_count": 35,
   "id": "31526e9b",
   "metadata": {},
   "outputs": [],
   "source": [
    "df_sorted = df_sampled.sort_values('t_sec')"
   ]
  },
  {
   "cell_type": "code",
   "execution_count": 44,
   "id": "49e53d17",
   "metadata": {},
   "outputs": [],
   "source": [
    "# Perform the train/test split with stratification based on the 'Behavior_1' column\n",
    "df_train, df_test = train_test_split(df_rounded, test_size=0.2, random_state=42, stratify=df_rounded['Behavior_1'])"
   ]
  },
  {
   "cell_type": "code",
   "execution_count": 45,
   "id": "74b6cd04",
   "metadata": {},
   "outputs": [
    {
     "data": {
      "text/html": [
       "<div>\n",
       "<style scoped>\n",
       "    .dataframe tbody tr th:only-of-type {\n",
       "        vertical-align: middle;\n",
       "    }\n",
       "\n",
       "    .dataframe tbody tr th {\n",
       "        vertical-align: top;\n",
       "    }\n",
       "\n",
       "    .dataframe thead th {\n",
       "        text-align: right;\n",
       "    }\n",
       "</style>\n",
       "<table border=\"1\" class=\"dataframe\">\n",
       "  <thead>\n",
       "    <tr style=\"text-align: right;\">\n",
       "      <th></th>\n",
       "      <th>ABack_x</th>\n",
       "      <th>ABack_y</th>\n",
       "      <th>ABack_z</th>\n",
       "      <th>GBack_x</th>\n",
       "      <th>GBack_y</th>\n",
       "      <th>GBack_z</th>\n",
       "      <th>Behavior_1</th>\n",
       "    </tr>\n",
       "  </thead>\n",
       "  <tbody>\n",
       "    <tr>\n",
       "      <th>5667068</th>\n",
       "      <td>0.2002</td>\n",
       "      <td>0.2173</td>\n",
       "      <td>1.0151</td>\n",
       "      <td>19.0430</td>\n",
       "      <td>26.8555</td>\n",
       "      <td>27.4658</td>\n",
       "      <td>Sniffing</td>\n",
       "    </tr>\n",
       "    <tr>\n",
       "      <th>7334393</th>\n",
       "      <td>-0.0786</td>\n",
       "      <td>-0.3452</td>\n",
       "      <td>0.9321</td>\n",
       "      <td>-41.9922</td>\n",
       "      <td>55.9082</td>\n",
       "      <td>-40.5884</td>\n",
       "      <td>Walking</td>\n",
       "    </tr>\n",
       "    <tr>\n",
       "      <th>9484422</th>\n",
       "      <td>0.4150</td>\n",
       "      <td>0.7383</td>\n",
       "      <td>0.4253</td>\n",
       "      <td>41.6260</td>\n",
       "      <td>88.0737</td>\n",
       "      <td>56.2744</td>\n",
       "      <td>Walking</td>\n",
       "    </tr>\n",
       "    <tr>\n",
       "      <th>1858321</th>\n",
       "      <td>-0.0312</td>\n",
       "      <td>-0.6973</td>\n",
       "      <td>0.7407</td>\n",
       "      <td>1.7090</td>\n",
       "      <td>-1.1597</td>\n",
       "      <td>-0.2441</td>\n",
       "      <td>Sitting</td>\n",
       "    </tr>\n",
       "    <tr>\n",
       "      <th>4014181</th>\n",
       "      <td>0.0981</td>\n",
       "      <td>-0.0843</td>\n",
       "      <td>0.8832</td>\n",
       "      <td>-38.5669</td>\n",
       "      <td>47.7814</td>\n",
       "      <td>-48.8019</td>\n",
       "      <td>Walking</td>\n",
       "    </tr>\n",
       "  </tbody>\n",
       "</table>\n",
       "</div>"
      ],
      "text/plain": [
       "         ABack_x  ABack_y  ABack_z  GBack_x  GBack_y  GBack_z Behavior_1\n",
       "5667068   0.2002   0.2173   1.0151  19.0430  26.8555  27.4658   Sniffing\n",
       "7334393  -0.0786  -0.3452   0.9321 -41.9922  55.9082 -40.5884    Walking\n",
       "9484422   0.4150   0.7383   0.4253  41.6260  88.0737  56.2744    Walking\n",
       "1858321  -0.0312  -0.6973   0.7407   1.7090  -1.1597  -0.2441    Sitting\n",
       "4014181   0.0981  -0.0843   0.8832 -38.5669  47.7814 -48.8019    Walking"
      ]
     },
     "execution_count": 45,
     "metadata": {},
     "output_type": "execute_result"
    }
   ],
   "source": [
    "df_test.head()"
   ]
  },
  {
   "cell_type": "code",
   "execution_count": 94,
   "id": "4c84a543",
   "metadata": {},
   "outputs": [],
   "source": [
    "# Convert float64 columns to float32\n",
    "float_columns = df_rounded.select_dtypes(include=['float64']).columns\n",
    "df_rounded[float_columns] = df_rounded[float_columns].astype('float32')"
   ]
  },
  {
   "cell_type": "code",
   "execution_count": 75,
   "id": "7e08382c",
   "metadata": {},
   "outputs": [
    {
     "data": {
      "text/plain": [
       "t_sec         float32\n",
       "ABack_x       float32\n",
       "ABack_y       float32\n",
       "ABack_z       float32\n",
       "GBack_x       float32\n",
       "GBack_y       float32\n",
       "GBack_z       float32\n",
       "Behavior_1     object\n",
       "dtype: object"
      ]
     },
     "execution_count": 75,
     "metadata": {},
     "output_type": "execute_result"
    }
   ],
   "source": [
    "df_rounded.dtypes"
   ]
  }
 ],
 "metadata": {
  "kernelspec": {
   "display_name": "Python 3 (ipykernel)",
   "language": "python",
   "name": "python3"
  },
  "language_info": {
   "codemirror_mode": {
    "name": "ipython",
    "version": 3
   },
   "file_extension": ".py",
   "mimetype": "text/x-python",
   "name": "python",
   "nbconvert_exporter": "python",
   "pygments_lexer": "ipython3",
   "version": "3.11.2"
  }
 },
 "nbformat": 4,
 "nbformat_minor": 5
}
