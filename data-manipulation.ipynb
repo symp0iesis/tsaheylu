{
 "cells": [
  {
   "cell_type": "code",
   "execution_count": 1,
   "id": "b98219c6-570d-4f03-894d-3483cff18cc2",
   "metadata": {
    "tags": []
   },
   "outputs": [],
   "source": [
    "import pandas as pd"
   ]
  },
  {
   "cell_type": "code",
   "execution_count": 3,
   "id": "bf065da4-65f5-4bd2-ba75-ed2063ff85ae",
   "metadata": {
    "tags": []
   },
   "outputs": [],
   "source": [
    "info_df = pd.read_csv('DogInfo.csv')"
   ]
  },
  {
   "cell_type": "code",
   "execution_count": 77,
   "id": "5300033f-5641-48dd-b3fb-1f99746f026b",
   "metadata": {
    "tags": []
   },
   "outputs": [],
   "source": [
    "df = pd.read_csv('DogMoveData.csv')"
   ]
  },
  {
   "cell_type": "code",
   "execution_count": 78,
   "id": "d1a2e833-70f7-4111-91df-42a33b28a240",
   "metadata": {
    "tags": []
   },
   "outputs": [
    {
     "data": {
      "text/html": [
       "<div>\n",
       "<style scoped>\n",
       "    .dataframe tbody tr th:only-of-type {\n",
       "        vertical-align: middle;\n",
       "    }\n",
       "\n",
       "    .dataframe tbody tr th {\n",
       "        vertical-align: top;\n",
       "    }\n",
       "\n",
       "    .dataframe thead th {\n",
       "        text-align: right;\n",
       "    }\n",
       "</style>\n",
       "<table border=\"1\" class=\"dataframe\">\n",
       "  <thead>\n",
       "    <tr style=\"text-align: right;\">\n",
       "      <th></th>\n",
       "      <th>DogID</th>\n",
       "      <th>TestNum</th>\n",
       "      <th>t_sec</th>\n",
       "      <th>ABack_x</th>\n",
       "      <th>ABack_y</th>\n",
       "      <th>ABack_z</th>\n",
       "      <th>ANeck_x</th>\n",
       "      <th>ANeck_y</th>\n",
       "      <th>ANeck_z</th>\n",
       "      <th>GBack_x</th>\n",
       "      <th>GBack_y</th>\n",
       "      <th>GBack_z</th>\n",
       "      <th>GNeck_x</th>\n",
       "      <th>GNeck_y</th>\n",
       "      <th>GNeck_z</th>\n",
       "      <th>Task</th>\n",
       "      <th>Behavior_1</th>\n",
       "      <th>Behavior_2</th>\n",
       "      <th>Behavior_3</th>\n",
       "      <th>PointEvent</th>\n",
       "    </tr>\n",
       "  </thead>\n",
       "  <tbody>\n",
       "    <tr>\n",
       "      <th>0</th>\n",
       "      <td>16</td>\n",
       "      <td>1</td>\n",
       "      <td>0.00</td>\n",
       "      <td>0.041504</td>\n",
       "      <td>0.938965</td>\n",
       "      <td>-0.015137</td>\n",
       "      <td>-0.067871</td>\n",
       "      <td>-0.510254</td>\n",
       "      <td>-0.934570</td>\n",
       "      <td>-17.639161</td>\n",
       "      <td>-22.766115</td>\n",
       "      <td>7.446290</td>\n",
       "      <td>-7.934571</td>\n",
       "      <td>6.347657</td>\n",
       "      <td>13.427735</td>\n",
       "      <td>&lt;undefined&gt;</td>\n",
       "      <td>&lt;undefined&gt;</td>\n",
       "      <td>&lt;undefined&gt;</td>\n",
       "      <td>&lt;undefined&gt;</td>\n",
       "      <td>&lt;undefined&gt;</td>\n",
       "    </tr>\n",
       "    <tr>\n",
       "      <th>1</th>\n",
       "      <td>16</td>\n",
       "      <td>1</td>\n",
       "      <td>0.01</td>\n",
       "      <td>0.041992</td>\n",
       "      <td>0.941895</td>\n",
       "      <td>-0.020020</td>\n",
       "      <td>-0.128906</td>\n",
       "      <td>-0.494141</td>\n",
       "      <td>-0.913086</td>\n",
       "      <td>-15.075685</td>\n",
       "      <td>-11.413575</td>\n",
       "      <td>4.821778</td>\n",
       "      <td>-3.906250</td>\n",
       "      <td>4.394532</td>\n",
       "      <td>16.540528</td>\n",
       "      <td>&lt;undefined&gt;</td>\n",
       "      <td>Synchronization</td>\n",
       "      <td>&lt;undefined&gt;</td>\n",
       "      <td>&lt;undefined&gt;</td>\n",
       "      <td>&lt;undefined&gt;</td>\n",
       "    </tr>\n",
       "    <tr>\n",
       "      <th>2</th>\n",
       "      <td>16</td>\n",
       "      <td>1</td>\n",
       "      <td>0.02</td>\n",
       "      <td>0.040527</td>\n",
       "      <td>0.939453</td>\n",
       "      <td>-0.004395</td>\n",
       "      <td>-0.158691</td>\n",
       "      <td>-0.480469</td>\n",
       "      <td>-0.911133</td>\n",
       "      <td>-12.207032</td>\n",
       "      <td>-0.122070</td>\n",
       "      <td>2.807617</td>\n",
       "      <td>-0.488281</td>\n",
       "      <td>-1.953125</td>\n",
       "      <td>26.794435</td>\n",
       "      <td>&lt;undefined&gt;</td>\n",
       "      <td>Synchronization</td>\n",
       "      <td>&lt;undefined&gt;</td>\n",
       "      <td>&lt;undefined&gt;</td>\n",
       "      <td>&lt;undefined&gt;</td>\n",
       "    </tr>\n",
       "    <tr>\n",
       "      <th>3</th>\n",
       "      <td>16</td>\n",
       "      <td>1</td>\n",
       "      <td>0.03</td>\n",
       "      <td>0.021484</td>\n",
       "      <td>0.946289</td>\n",
       "      <td>0.007813</td>\n",
       "      <td>-0.122070</td>\n",
       "      <td>-0.486816</td>\n",
       "      <td>-0.880371</td>\n",
       "      <td>-9.460450</td>\n",
       "      <td>7.995606</td>\n",
       "      <td>1.586914</td>\n",
       "      <td>1.159668</td>\n",
       "      <td>-5.676270</td>\n",
       "      <td>38.085940</td>\n",
       "      <td>&lt;undefined&gt;</td>\n",
       "      <td>Synchronization</td>\n",
       "      <td>&lt;undefined&gt;</td>\n",
       "      <td>&lt;undefined&gt;</td>\n",
       "      <td>&lt;undefined&gt;</td>\n",
       "    </tr>\n",
       "    <tr>\n",
       "      <th>4</th>\n",
       "      <td>16</td>\n",
       "      <td>1</td>\n",
       "      <td>0.04</td>\n",
       "      <td>-0.000977</td>\n",
       "      <td>0.951172</td>\n",
       "      <td>0.033691</td>\n",
       "      <td>-0.053711</td>\n",
       "      <td>-0.500000</td>\n",
       "      <td>-0.807129</td>\n",
       "      <td>-8.361817</td>\n",
       "      <td>14.587403</td>\n",
       "      <td>-1.037598</td>\n",
       "      <td>4.577637</td>\n",
       "      <td>4.089356</td>\n",
       "      <td>41.503909</td>\n",
       "      <td>&lt;undefined&gt;</td>\n",
       "      <td>Synchronization</td>\n",
       "      <td>&lt;undefined&gt;</td>\n",
       "      <td>&lt;undefined&gt;</td>\n",
       "      <td>&lt;undefined&gt;</td>\n",
       "    </tr>\n",
       "  </tbody>\n",
       "</table>\n",
       "</div>"
      ],
      "text/plain": [
       "   DogID  TestNum  t_sec   ABack_x   ABack_y   ABack_z   ANeck_x   ANeck_y  \\\n",
       "0     16        1   0.00  0.041504  0.938965 -0.015137 -0.067871 -0.510254   \n",
       "1     16        1   0.01  0.041992  0.941895 -0.020020 -0.128906 -0.494141   \n",
       "2     16        1   0.02  0.040527  0.939453 -0.004395 -0.158691 -0.480469   \n",
       "3     16        1   0.03  0.021484  0.946289  0.007813 -0.122070 -0.486816   \n",
       "4     16        1   0.04 -0.000977  0.951172  0.033691 -0.053711 -0.500000   \n",
       "\n",
       "    ANeck_z    GBack_x    GBack_y   GBack_z   GNeck_x   GNeck_y    GNeck_z  \\\n",
       "0 -0.934570 -17.639161 -22.766115  7.446290 -7.934571  6.347657  13.427735   \n",
       "1 -0.913086 -15.075685 -11.413575  4.821778 -3.906250  4.394532  16.540528   \n",
       "2 -0.911133 -12.207032  -0.122070  2.807617 -0.488281 -1.953125  26.794435   \n",
       "3 -0.880371  -9.460450   7.995606  1.586914  1.159668 -5.676270  38.085940   \n",
       "4 -0.807129  -8.361817  14.587403 -1.037598  4.577637  4.089356  41.503909   \n",
       "\n",
       "          Task       Behavior_1   Behavior_2   Behavior_3   PointEvent  \n",
       "0  <undefined>      <undefined>  <undefined>  <undefined>  <undefined>  \n",
       "1  <undefined>  Synchronization  <undefined>  <undefined>  <undefined>  \n",
       "2  <undefined>  Synchronization  <undefined>  <undefined>  <undefined>  \n",
       "3  <undefined>  Synchronization  <undefined>  <undefined>  <undefined>  \n",
       "4  <undefined>  Synchronization  <undefined>  <undefined>  <undefined>  "
      ]
     },
     "execution_count": 78,
     "metadata": {},
     "output_type": "execute_result"
    }
   ],
   "source": [
    "df.head()"
   ]
  },
  {
   "cell_type": "code",
   "execution_count": 81,
   "id": "78115b37",
   "metadata": {},
   "outputs": [
    {
     "name": "stdout",
     "output_type": "stream",
     "text": [
      "TestNum\n",
      "1    7077556\n",
      "Name: count, dtype: int64\n"
     ]
    }
   ],
   "source": [
    "# Filter out rows where TestNum is equal to 2\n",
    "df_1 = df[df['TestNum'] != 2]\n",
    "test_counts = df_1['TestNum'].value_counts()\n",
    "print(test_counts)"
   ]
  },
  {
   "cell_type": "code",
   "execution_count": 82,
   "id": "fe637a5e-5635-4f72-9cc5-52dbb7f515a6",
   "metadata": {},
   "outputs": [
    {
     "name": "stderr",
     "output_type": "stream",
     "text": [
      "/var/folders/rj/rd7zf_xd73z48_hp9wffw4p80000gn/T/ipykernel_9506/4082944345.py:2: UserWarning: Boolean Series key will be reindexed to match DataFrame index.\n",
      "  df_2 = df_1[(df['Behavior_2'] == '<undefined>') & (df['Behavior_3'] == '<undefined>')]\n"
     ]
    },
    {
     "name": "stdout",
     "output_type": "stream",
     "text": [
      "   DogID  TestNum  t_sec   ABack_x   ABack_y   ABack_z   ANeck_x   ANeck_y  \\\n",
      "0     16        1   0.00  0.041504  0.938965 -0.015137 -0.067871 -0.510254   \n",
      "1     16        1   0.01  0.041992  0.941895 -0.020020 -0.128906 -0.494141   \n",
      "2     16        1   0.02  0.040527  0.939453 -0.004395 -0.158691 -0.480469   \n",
      "3     16        1   0.03  0.021484  0.946289  0.007813 -0.122070 -0.486816   \n",
      "4     16        1   0.04 -0.000977  0.951172  0.033691 -0.053711 -0.500000   \n",
      "\n",
      "    ANeck_z    GBack_x    GBack_y   GBack_z   GNeck_x   GNeck_y    GNeck_z  \\\n",
      "0 -0.934570 -17.639161 -22.766115  7.446290 -7.934571  6.347657  13.427735   \n",
      "1 -0.913086 -15.075685 -11.413575  4.821778 -3.906250  4.394532  16.540528   \n",
      "2 -0.911133 -12.207032  -0.122070  2.807617 -0.488281 -1.953125  26.794435   \n",
      "3 -0.880371  -9.460450   7.995606  1.586914  1.159668 -5.676270  38.085940   \n",
      "4 -0.807129  -8.361817  14.587403 -1.037598  4.577637  4.089356  41.503909   \n",
      "\n",
      "          Task       Behavior_1   Behavior_2   Behavior_3   PointEvent  \n",
      "0  <undefined>      <undefined>  <undefined>  <undefined>  <undefined>  \n",
      "1  <undefined>  Synchronization  <undefined>  <undefined>  <undefined>  \n",
      "2  <undefined>  Synchronization  <undefined>  <undefined>  <undefined>  \n",
      "3  <undefined>  Synchronization  <undefined>  <undefined>  <undefined>  \n",
      "4  <undefined>  Synchronization  <undefined>  <undefined>  <undefined>  \n"
     ]
    }
   ],
   "source": [
    "# Filter the DataFrame to have only observations in Behavior 1 (Behavior 2 and 3 == <undefined>)\n",
    "df_2 = df_1[(df['Behavior_2'] == '<undefined>') & (df['Behavior_3'] == '<undefined>')]\n",
    "\n",
    "# Display the first few rows of the filtered DataFrame\n",
    "print(df_2.head())"
   ]
  },
  {
   "cell_type": "code",
   "execution_count": 83,
   "id": "e62e39d2",
   "metadata": {},
   "outputs": [
    {
     "name": "stdout",
     "output_type": "stream",
     "text": [
      "   t_sec   ABack_x   ABack_y   ABack_z    GBack_x    GBack_y   GBack_z  \\\n",
      "0   0.00  0.041504  0.938965 -0.015137 -17.639161 -22.766115  7.446290   \n",
      "1   0.01  0.041992  0.941895 -0.020020 -15.075685 -11.413575  4.821778   \n",
      "2   0.02  0.040527  0.939453 -0.004395 -12.207032  -0.122070  2.807617   \n",
      "3   0.03  0.021484  0.946289  0.007813  -9.460450   7.995606  1.586914   \n",
      "4   0.04 -0.000977  0.951172  0.033691  -8.361817  14.587403 -1.037598   \n",
      "\n",
      "        Behavior_1  \n",
      "0      <undefined>  \n",
      "1  Synchronization  \n",
      "2  Synchronization  \n",
      "3  Synchronization  \n",
      "4  Synchronization  \n"
     ]
    }
   ],
   "source": [
    "# List of columns to delete (unused -- reduce dataset size)\n",
    "columns_to_delete = ['DogID', 'TestNum', 'ANeck_x', 'ANeck_y', 'ANeck_z', 'GNeck_x', 'GNeck_y', 'GNeck_z', 'Task', 'Behavior_2', 'Behavior_3', 'PointEvent']\n",
    "\n",
    "# Use the drop() method to remove these columns\n",
    "df_3 = df_2.drop(columns=columns_to_delete)\n",
    "\n",
    "# Display the DataFrame to confirm the columns have been removed\n",
    "print(df_3.head())"
   ]
  },
  {
   "cell_type": "code",
   "execution_count": 84,
   "id": "930850e5",
   "metadata": {},
   "outputs": [
    {
     "name": "stdout",
     "output_type": "stream",
     "text": [
      "Behavior_1\n",
      "<undefined>              2584556\n",
      "Sniffing                  645223\n",
      "Trotting                  458105\n",
      "Walking                   454964\n",
      "Lying chest               261016\n",
      "Playing                   237007\n",
      "Sitting                   166285\n",
      "Standing                  157067\n",
      "Pacing                     54373\n",
      "Drinking                   51971\n",
      "Shaking                    28421\n",
      "Synchronization            10350\n",
      "Panting                     2275\n",
      "Galloping                   2252\n",
      "Tugging                      490\n",
      "Extra_Synchronization        287\n",
      "Eating                         5\n",
      "Name: count, dtype: int64\n"
     ]
    }
   ],
   "source": [
    "behavior_counts = df_3['Behavior_1'].value_counts()\n",
    "print(behavior_counts)\n"
   ]
  },
  {
   "cell_type": "code",
   "execution_count": 85,
   "id": "6558ea89",
   "metadata": {},
   "outputs": [
    {
     "name": "stdout",
     "output_type": "stream",
     "text": [
      "      t_sec   ABack_x   ABack_y   ABack_z    GBack_x    GBack_y    GBack_z  \\\n",
      "9081  90.81 -0.272949  0.204102  1.185547 -39.489749  62.500004  35.766604   \n",
      "9082  90.82 -0.296875 -0.004883  1.074219 -42.114260  39.794924  44.250491   \n",
      "9083  90.83 -0.248535 -0.142578  0.994141 -41.564944  12.878419  59.997562   \n",
      "9084  90.84 -0.170898 -0.216797  0.927246 -34.240725 -14.099122  75.866704   \n",
      "9085  90.85 -0.084473 -0.226563  0.871094 -23.376466 -31.494143  91.247564   \n",
      "\n",
      "     Behavior_1  \n",
      "9081    Walking  \n",
      "9082    Walking  \n",
      "9083    Walking  \n",
      "9084    Walking  \n",
      "9085    Walking  \n"
     ]
    }
   ],
   "source": [
    "# Define the list of behaviors used in the original analysis\n",
    "selected_behaviors = [\"Galloping\", \"Lying chest\", \"Sitting\", \"Sniffing\", \"Standing\", \"Trotting\", \"Walking\"]\n",
    "\n",
    "# Filter the DataFrame to include only rows with the selected behaviors\n",
    "df_4 = df_3[df_3['Behavior_1'].isin(selected_behaviors)]\n",
    "\n",
    "# Display the first few rows of the filtered DataFrame\n",
    "print(df_4.head())\n"
   ]
  },
  {
   "cell_type": "code",
   "execution_count": 86,
   "id": "cbebaaf6",
   "metadata": {},
   "outputs": [
    {
     "name": "stdout",
     "output_type": "stream",
     "text": [
      "Behavior_1\n",
      "Sniffing       645223\n",
      "Trotting       458105\n",
      "Walking        454964\n",
      "Lying chest    261016\n",
      "Sitting        166285\n",
      "Standing       157067\n",
      "Galloping        2252\n",
      "Name: count, dtype: int64\n"
     ]
    }
   ],
   "source": [
    "behavior_counts = df_4['Behavior_1'].value_counts()\n",
    "print(behavior_counts)"
   ]
  },
  {
   "cell_type": "code",
   "execution_count": 101,
   "id": "e0952250",
   "metadata": {},
   "outputs": [],
   "source": [
    "# Round all numerical columns to the specified number of decimal places\n",
    "df_rounded = df_4.copy()  # Create a copy to preserve the original DataFrame\n",
    "# Round to X decimal places\n",
    "df_rounded = df_rounded.round(3)"
   ]
  },
  {
   "cell_type": "code",
   "execution_count": 102,
   "id": "42c2635a",
   "metadata": {},
   "outputs": [
    {
     "data": {
      "text/html": [
       "<div>\n",
       "<style scoped>\n",
       "    .dataframe tbody tr th:only-of-type {\n",
       "        vertical-align: middle;\n",
       "    }\n",
       "\n",
       "    .dataframe tbody tr th {\n",
       "        vertical-align: top;\n",
       "    }\n",
       "\n",
       "    .dataframe thead th {\n",
       "        text-align: right;\n",
       "    }\n",
       "</style>\n",
       "<table border=\"1\" class=\"dataframe\">\n",
       "  <thead>\n",
       "    <tr style=\"text-align: right;\">\n",
       "      <th></th>\n",
       "      <th>t_sec</th>\n",
       "      <th>ABack_x</th>\n",
       "      <th>ABack_y</th>\n",
       "      <th>ABack_z</th>\n",
       "      <th>GBack_x</th>\n",
       "      <th>GBack_y</th>\n",
       "      <th>GBack_z</th>\n",
       "      <th>Behavior_1</th>\n",
       "    </tr>\n",
       "  </thead>\n",
       "  <tbody>\n",
       "    <tr>\n",
       "      <th>9081</th>\n",
       "      <td>90.81</td>\n",
       "      <td>-0.273</td>\n",
       "      <td>0.204</td>\n",
       "      <td>1.186</td>\n",
       "      <td>-39.490</td>\n",
       "      <td>62.500</td>\n",
       "      <td>35.767</td>\n",
       "      <td>Walking</td>\n",
       "    </tr>\n",
       "    <tr>\n",
       "      <th>9082</th>\n",
       "      <td>90.82</td>\n",
       "      <td>-0.297</td>\n",
       "      <td>-0.005</td>\n",
       "      <td>1.074</td>\n",
       "      <td>-42.114</td>\n",
       "      <td>39.795</td>\n",
       "      <td>44.250</td>\n",
       "      <td>Walking</td>\n",
       "    </tr>\n",
       "    <tr>\n",
       "      <th>9083</th>\n",
       "      <td>90.83</td>\n",
       "      <td>-0.249</td>\n",
       "      <td>-0.143</td>\n",
       "      <td>0.994</td>\n",
       "      <td>-41.565</td>\n",
       "      <td>12.878</td>\n",
       "      <td>59.998</td>\n",
       "      <td>Walking</td>\n",
       "    </tr>\n",
       "    <tr>\n",
       "      <th>9084</th>\n",
       "      <td>90.84</td>\n",
       "      <td>-0.171</td>\n",
       "      <td>-0.217</td>\n",
       "      <td>0.927</td>\n",
       "      <td>-34.241</td>\n",
       "      <td>-14.099</td>\n",
       "      <td>75.867</td>\n",
       "      <td>Walking</td>\n",
       "    </tr>\n",
       "    <tr>\n",
       "      <th>9085</th>\n",
       "      <td>90.85</td>\n",
       "      <td>-0.084</td>\n",
       "      <td>-0.227</td>\n",
       "      <td>0.871</td>\n",
       "      <td>-23.376</td>\n",
       "      <td>-31.494</td>\n",
       "      <td>91.248</td>\n",
       "      <td>Walking</td>\n",
       "    </tr>\n",
       "  </tbody>\n",
       "</table>\n",
       "</div>"
      ],
      "text/plain": [
       "      t_sec  ABack_x  ABack_y  ABack_z  GBack_x  GBack_y  GBack_z Behavior_1\n",
       "9081  90.81   -0.273    0.204    1.186  -39.490   62.500   35.767    Walking\n",
       "9082  90.82   -0.297   -0.005    1.074  -42.114   39.795   44.250    Walking\n",
       "9083  90.83   -0.249   -0.143    0.994  -41.565   12.878   59.998    Walking\n",
       "9084  90.84   -0.171   -0.217    0.927  -34.241  -14.099   75.867    Walking\n",
       "9085  90.85   -0.084   -0.227    0.871  -23.376  -31.494   91.248    Walking"
      ]
     },
     "execution_count": 102,
     "metadata": {},
     "output_type": "execute_result"
    }
   ],
   "source": [
    "df_rounded.head()"
   ]
  },
  {
   "cell_type": "code",
   "execution_count": 117,
   "id": "bf89935a",
   "metadata": {},
   "outputs": [],
   "source": [
    "# Perform random sampling based on fraction\n",
    "df_sampled = df_rounded.sample(frac=0.82, random_state=42)  # random_state for reproducibility"
   ]
  },
  {
   "cell_type": "code",
   "execution_count": 118,
   "id": "745f968f",
   "metadata": {},
   "outputs": [
    {
     "name": "stdout",
     "output_type": "stream",
     "text": [
      "DataFrame exported successfully\n"
     ]
    }
   ],
   "source": [
    "# Export the filtered DataFrame to a CSV file\n",
    "df_sampled.to_csv('ManipulatedDogMoveData.csv', index=False)\n",
    "\n",
    "print(\"DataFrame exported successfully\")\n"
   ]
  },
  {
   "cell_type": "code",
   "execution_count": 94,
   "id": "4c84a543",
   "metadata": {},
   "outputs": [],
   "source": [
    "# Convert float64 columns to float32\n",
    "float_columns = df_rounded.select_dtypes(include=['float64']).columns\n",
    "df_rounded[float_columns] = df_rounded[float_columns].astype('float32')"
   ]
  },
  {
   "cell_type": "code",
   "execution_count": 75,
   "id": "7e08382c",
   "metadata": {},
   "outputs": [
    {
     "data": {
      "text/plain": [
       "t_sec         float32\n",
       "ABack_x       float32\n",
       "ABack_y       float32\n",
       "ABack_z       float32\n",
       "GBack_x       float32\n",
       "GBack_y       float32\n",
       "GBack_z       float32\n",
       "Behavior_1     object\n",
       "dtype: object"
      ]
     },
     "execution_count": 75,
     "metadata": {},
     "output_type": "execute_result"
    }
   ],
   "source": [
    "df_rounded.dtypes"
   ]
  }
 ],
 "metadata": {
  "kernelspec": {
   "display_name": "Python 3 (ipykernel)",
   "language": "python",
   "name": "python3"
  },
  "language_info": {
   "codemirror_mode": {
    "name": "ipython",
    "version": 3
   },
   "file_extension": ".py",
   "mimetype": "text/x-python",
   "name": "python",
   "nbconvert_exporter": "python",
   "pygments_lexer": "ipython3",
   "version": "3.11.2"
  }
 },
 "nbformat": 4,
 "nbformat_minor": 5
}
